{
 "cells": [
  {
   "cell_type": "markdown",
   "id": "89c48d11",
   "metadata": {},
   "source": [
    "The goal of this notebook is to generate all the debiased models used in the paper\n",
    "\n",
    "This for experiment 1 is\n",
    "\n",
    "- [X] HD gender\n",
    "- [X] Sub same x3 - Sub (SCM)\n",
    "- [X] LP same x3 - LP (SCM)\n",
    "- [X] PP same x3 - GRA - SCM"
   ]
  },
  {
   "cell_type": "code",
   "execution_count": null,
   "id": "d8955d07",
   "metadata": {},
   "outputs": [],
   "source": [
    "import os\n",
    "import sys\n",
    "import json\n",
    "sys.path.insert(1,\"../src/\")\n",
    "import config\n",
    "import random\n",
    "import numpy as np\n",
    "import pandas as pd\n",
    "from utils import load_embedding, load_pairs\n",
    "from debias import Debias\n",
    "from tqdm import tqdm\n",
    "from eval import Evalution"
   ]
  },
  {
   "cell_type": "markdown",
   "id": "c858090e",
   "metadata": {},
   "source": [
    "## Loading Word Pairs"
   ]
  },
  {
   "cell_type": "code",
   "execution_count": null,
   "id": "37183927",
   "metadata": {},
   "outputs": [],
   "source": [
    "dimension_pair_dict = {\"gender\":config.gender_pair_path, \"race\":config.race_pair_path, \"age\":config.race_pair_path}"
   ]
  },
  {
   "cell_type": "markdown",
   "id": "4d43d249",
   "metadata": {},
   "source": [
    "## HD -- Only for gender"
   ]
  },
  {
   "cell_type": "code",
   "execution_count": null,
   "id": "6860ad7e",
   "metadata": {},
   "outputs": [],
   "source": [
    "debiasing_instance = Debias(config.sgns_wikitext_path, config.debiased_model_dir)"
   ]
  },
  {
   "cell_type": "code",
   "execution_count": null,
   "id": "1a33b551",
   "metadata": {},
   "outputs": [],
   "source": [
    "hd = debiasing_instance.hard_debias()"
   ]
  },
  {
   "cell_type": "markdown",
   "id": "a88dd7d4",
   "metadata": {},
   "source": [
    "## Debiasing with Subtraction (Sub) for each social attribute "
   ]
  },
  {
   "cell_type": "code",
   "execution_count": null,
   "id": "9fff7c97",
   "metadata": {},
   "outputs": [],
   "source": [
    "for dim in dimension_pair_dict:\n",
    "    print(dim)\n",
    "    sub_embedding = debiasing_instance.subtraction(def_pairs=load_pairs(dimension_pair_dict[dim]))\n",
    "    sub_embedding.save(os.path.join(config.debiased_model_dir, \"sub_{}.wv\".format(dim)))"
   ]
  },
  {
   "cell_type": "markdown",
   "id": "41bbed61",
   "metadata": {},
   "source": [
    "## Debiasing with Linear Projection (LP) for each social attribute "
   ]
  },
  {
   "cell_type": "code",
   "execution_count": null,
   "id": "84634038",
   "metadata": {},
   "outputs": [],
   "source": [
    "for dim in dimension_pair_dict:\n",
    "    print(dim)\n",
    "    LP_embedding = debiasing_instance.projection(def_pairs=load_pairs(dimension_pair_dict[dim]))\n",
    "    LP_embedding.save(os.path.join(config.debiased_model_dir, \"LP_{}.wv\".format(dim)))"
   ]
  },
  {
   "cell_type": "markdown",
   "id": "bf5507bd",
   "metadata": {},
   "source": [
    "## Debiasing with Partial Projection (PP) for each social attribute "
   ]
  },
  {
   "cell_type": "code",
   "execution_count": null,
   "id": "5fe5ba01",
   "metadata": {},
   "outputs": [],
   "source": [
    "for dim in dimension_pair_dict:\n",
    "    print(dim)\n",
    "    PP_embedding = debiasing_instance.partial_project(def_pairs=load_pairs(dimension_pair_dict[dim]))\n",
    "    PP_embedding.save(os.path.join(config.debiased_model_dir, \"PP_{}.wv\".format(dim)))"
   ]
  },
  {
   "cell_type": "markdown",
   "id": "fbac9fc6",
   "metadata": {},
   "source": [
    "## Repeating the Experiments with Random Word Pair Samples\n",
    "\n",
    "The function \"bootstrap\" was used to measure ECT and EQT of Sub$_{same}$, LP$_{same}$, PP$_{same}$, and PP$_{SCM}$"
   ]
  },
  {
   "cell_type": "code",
   "execution_count": null,
   "id": "59442369",
   "metadata": {},
   "outputs": [],
   "source": [
    "def bootstrap(deb_instance, dim_path_dict, repetitions=30, sub_sample_size=8):\n",
    "    eval_instance = Evalution(profession_file_path= config.professions_path)\n",
    "    rows  = {\"alg\":[], \"dim\":[], \"repetition\":[], \"i\":[], \"sub_sample_size\":[],\"ect_correlation\":[],\n",
    "             \"ect_pval\":[], \"eqt\":[]}\n",
    "    \n",
    "    def get_measures(e, dim):\n",
    "        if dim == \"age\":\n",
    "            pairs = load_pairs(config.age_pair_path)\n",
    "        elif dim == \"race\":\n",
    "            pairs = load_pairs(config.race_pair_path)\n",
    "        elif dim == \"gender\":\n",
    "            pairs = load_pairs(config.gender_pair_path)\n",
    "            \n",
    "        #delete this\n",
    "#         pairs = pairs[:2]\n",
    "            \n",
    "        ect = eval_instance.ect(embedding=e,pairs=pairs)\n",
    "        ect_corr = ect.correlation\n",
    "        ect_pval = ect.pvalue\n",
    "        eqt_dict = eval_instance.eqt(embedding=e, pairs=pairs)\n",
    "        eqt = np.average([eqt_dict[k] for k in eqt_dict])\n",
    "        rows[\"ect_correlation\"].append(ect_corr)\n",
    "        rows[\"ect_pval\"].append(ect_pval)\n",
    "        rows[\"eqt\"].append(eqt)\n",
    "\n",
    "    def gather_info(i,alg, dim):\n",
    "        rows[\"alg\"].append(alg)\n",
    "        rows[\"dim\"].append(dim)\n",
    "        rows[\"repetition\"].append(\"repetition\")\n",
    "        rows[\"i\"].append(i)\n",
    "        rows[\"sub_sample_size\"].append(sub_sample_size)\n",
    "            \n",
    "    for dim in dim_path_dict:\n",
    "        pairs = load_pairs(dim_path_dict[dim])\n",
    "        print(dim)\n",
    "        for i in tqdm(range(repetitions)):\n",
    "            sub_pairs = random.sample(pairs, sub_sample_size)\n",
    "            e = deb_instance.subtraction(def_pairs = sub_pairs)\n",
    "            gather_info(i, \"sub\", dim)\n",
    "            get_measures(e, dim)\n",
    "            e = debiasing_instance.projection(def_pairs=sub_pairs)\n",
    "            gather_info(i,\"LP\", dim)\n",
    "            get_measures(e, dim)\n",
    "            e = debiasing_instance.partial_project(def_pairs=sub_pairs)\n",
    "            gather_info(i,\"PP\",dim)\n",
    "            get_measures(e,dim)\n",
    "                    \n",
    "    warmth_pairs = load_pairs(config.warmth_pair_path)\n",
    "    competence_pairs = load_pairs(config.competence_pair_path)\n",
    "    \n",
    "    for i in tqdm(range(repetitions)):\n",
    "        sub_warmth_pairs = random.sample(warmth_pairs, sub_sample_size)\n",
    "        sub_competence_pairs = random.sample(competence_pairs, sub_sample_size)\n",
    "        e = debiasing_instance.partial_project(def_pairs=sub_warmth_pairs)\n",
    "        e_scm = debiasing_instance.partial_project(def_pairs=sub_competence_pairs, embedding=e)\n",
    "        for dim in [\"race\", \"age\", \"gender\"]:\n",
    "            gather_info(i, \"PP_SCM\", dim)\n",
    "            get_measures(e_scm, dim)\n",
    "        \n",
    "            \n",
    "    df = pd.DataFrame(rows)\n",
    "    df.to_csv(\"../results/rep_{}_size_{}.csv\".format(repetitions,sub_sample_size), index=False)\n",
    "    return df"
   ]
  },
  {
   "cell_type": "code",
   "execution_count": null,
   "id": "6b104a9b",
   "metadata": {},
   "outputs": [],
   "source": [
    "rows = bootstrap(debiasing_instance, dim_path_dict = dimension_pair_dict, repetitions=1, sub_sample_size=2)"
   ]
  },
  {
   "cell_type": "markdown",
   "id": "6ae2ef5f",
   "metadata": {},
   "source": [
    "The function \"bootstrap_scm\" was used to repeatedly measure ECT and EQT, for Sub$_{SCM}$, LP$_{SCM}$, PP$_{SCM}$, and PP$_{G+R+A}$"
   ]
  },
  {
   "cell_type": "code",
   "execution_count": null,
   "id": "f693cdf3",
   "metadata": {},
   "outputs": [],
   "source": [
    "def bootstrap_scm(deb_instance, dim_path_dict, repetitions=30, sub_sample_size=8):\n",
    "    eval_instance = Evalution(profession_file_path= config.professions_path)\n",
    "    rows  = {\"alg\":[], \"dim\":[], \"repetition\":[], \"i\":[], \"sub_sample_size\":[],\"ect_correlation\":[],\n",
    "             \"ect_pval\":[], \"eqt\":[]}\n",
    "    \n",
    "    def get_measures(e, dim):\n",
    "        if dim == \"age\":\n",
    "            pairs = load_pairs(config.age_pair_path)\n",
    "        elif dim == \"race\":\n",
    "            pairs = load_pairs(config.race_pair_path)\n",
    "        elif dim == \"gender\":\n",
    "            pairs = load_pairs(config.gender_pair_path)\n",
    "            \n",
    "        #delete this\n",
    "#         pairs = pairs[:2]\n",
    "            \n",
    "        ect = eval_instance.ect(embedding=e,pairs=pairs)\n",
    "        ect_corr = ect.correlation\n",
    "        ect_pval = ect.pvalue\n",
    "        eqt_dict = eval_instance.eqt(embedding=e, pairs=pairs)\n",
    "        eqt = np.average([eqt_dict[k] for k in eqt_dict])\n",
    "        rows[\"ect_correlation\"].append(ect_corr)\n",
    "        rows[\"ect_pval\"].append(ect_pval)\n",
    "        rows[\"eqt\"].append(eqt)\n",
    "\n",
    "    def gather_info(i,alg, dim):\n",
    "        rows[\"alg\"].append(alg)\n",
    "        rows[\"dim\"].append(dim)\n",
    "        rows[\"repetition\"].append(\"repetition\")\n",
    "        rows[\"i\"].append(i)\n",
    "        rows[\"sub_sample_size\"].append(sub_sample_size)\n",
    "            \n",
    "\n",
    "    warmth_pairs = load_pairs(config.warmth_pair_path)\n",
    "    competence_pairs = load_pairs(config.competence_pair_path)\n",
    "    gender_pairs = load_pairs(config.gender_pair_path)\n",
    "    race_pairs = load_pairs(config.race_pair_path)\n",
    "    age_pairs = load_pairs(config.age_pair_path)\n",
    "    \n",
    "    for i in tqdm(range(repetitions)):\n",
    "        sub_warmth_pairs = random.sample(warmth_pairs, sub_sample_size)\n",
    "        sub_competence_pairs = random.sample(competence_pairs, sub_sample_size)\n",
    "        sub_gender_pairs = random.sample(gender_pairs, sub_sample_size)\n",
    "        sub_race_pairs = random.sample(race_pairs, sub_sample_size)\n",
    "        sub_age_pairs = random.sample(age_pairs, sub_sample_size)\n",
    "        \n",
    "        # GRA\n",
    "        eg = debiasing_instance.partial_project(def_pairs=sub_gender_pairs)\n",
    "        e_gr = debiasing_instance.partial_project(def_pairs=sub_race_pairs, embedding=eg)\n",
    "        e_gra = debiasing_instance.partial_project(def_pairs=sub_age_pairs, embedding=e_gr)\n",
    "        for dim in [\"race\", \"age\", \"gender\"]:\n",
    "            gather_info(i, \"PP_GRA\", dim)\n",
    "            get_measures(e_gra, dim)\n",
    "        \n",
    "        # Sub_SCM\n",
    "        e = debiasing_instance.subtraction(def_pairs=sub_warmth_pairs)\n",
    "        e_scm = debiasing_instance.subtraction(def_pairs=sub_competence_pairs, embedding=e)\n",
    "        for dim in [\"race\", \"age\", \"gender\"]:\n",
    "            gather_info(i, \"Sub_SCM\", dim)\n",
    "            get_measures(e_scm, dim)\n",
    "        #LP_SCM\n",
    "        e = debiasing_instance.projection(def_pairs=sub_warmth_pairs)\n",
    "        e_scm = debiasing_instance.projection(def_pairs=sub_competence_pairs, embedding=e)\n",
    "        for dim in [\"race\", \"age\", \"gender\"]:\n",
    "            gather_info(i, \"LP_SCM\", dim)\n",
    "            get_measures(e_scm, dim)\n",
    "        #PP_SCM\n",
    "        e = debiasing_instance.partial_project(def_pairs=sub_warmth_pairs)\n",
    "        e_scm = debiasing_instance.partial_project(def_pairs=sub_competence_pairs, embedding=e)\n",
    "        for dim in [\"race\", \"age\", \"gender\"]:\n",
    "            gather_info(i, \"PP_SCM\", dim)\n",
    "            get_measures(e_scm, dim)\n",
    "            \n",
    "        \n",
    "            \n",
    "    df = pd.DataFrame(rows)\n",
    "    df.to_csv(\"../results/SCM_rep_{}_size_{}.csv\".format(repetitions,sub_sample_size), index=False)\n",
    "    return df"
   ]
  },
  {
   "cell_type": "code",
   "execution_count": null,
   "id": "a3fa1ed0",
   "metadata": {},
   "outputs": [],
   "source": [
    "scm_rows = bootstrap_scm(debiasing_instance, dim_path_dict = dimension_pair_dict, repetitions=1, sub_sample_size=2)\n"
   ]
  },
  {
   "cell_type": "code",
   "execution_count": null,
   "id": "90507c94",
   "metadata": {
    "scrolled": true
   },
   "outputs": [],
   "source": [
    "scm_rows"
   ]
  },
  {
   "cell_type": "code",
   "execution_count": null,
   "id": "f5220084",
   "metadata": {},
   "outputs": [],
   "source": []
  }
 ],
 "metadata": {
  "kernelspec": {
   "display_name": "scmd-env",
   "language": "python",
   "name": "scmd-env"
  },
  "language_info": {
   "codemirror_mode": {
    "name": "ipython",
    "version": 3
   },
   "file_extension": ".py",
   "mimetype": "text/x-python",
   "name": "python",
   "nbconvert_exporter": "python",
   "pygments_lexer": "ipython3",
   "version": "3.6.9"
  }
 },
 "nbformat": 4,
 "nbformat_minor": 5
}
