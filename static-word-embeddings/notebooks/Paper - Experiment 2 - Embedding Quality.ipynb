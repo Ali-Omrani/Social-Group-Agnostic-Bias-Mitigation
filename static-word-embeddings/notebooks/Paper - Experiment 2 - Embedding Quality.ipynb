{
 "cells": [
  {
   "cell_type": "markdown",
   "id": "0044d2f8",
   "metadata": {},
   "source": [
    "\n",
    "We use [Word Embedding Benchmark Repo](https://github.com/kudkudak/word-embeddings-benchmarks)\n",
    "\n",
    " ## Are SCM Dimensions crucial to semantics\n",
    "\n",
    "Compare the embedding quality of PP$_{SCM}$ with PP$_{G+R+A}\n"
   ]
  },
  {
   "cell_type": "code",
   "execution_count": null,
   "id": "d9bbb014",
   "metadata": {},
   "outputs": [],
   "source": [
    "import sys\n",
    "import os\n",
    "import random\n",
    "import logging\n",
    "import pandas as pd\n",
    "from tqdm import tqdm\n",
    "\n",
    "logging.basicConfig(format='%(asctime)s %(levelname)s:%(message)s', level=logging.DEBUG, datefmt='%I:%M:%S')"
   ]
  },
  {
   "cell_type": "code",
   "execution_count": null,
   "id": "1608fa87",
   "metadata": {},
   "outputs": [],
   "source": [
    "sys.path.insert(1,\"../external_code/quality/word-embeddings-benchmarks/\")\n",
    "from web.datasets.analogy import fetch_google_analogy\n",
    "from web.embeddings import fetch_SG_GoogleNews\n",
    "from web.evaluate import evaluate_on_all\n",
    "from web.embeddings import load_embedding\n",
    "\n",
    "sys.path.insert(1, '../src/')\n",
    "import config\n",
    "from utils import  load_pairs\n",
    "from debias import Debias\n"
   ]
  },
  {
   "cell_type": "markdown",
   "id": "cded58c4",
   "metadata": {},
   "source": [
    "## PP$_{SCM}$"
   ]
  },
  {
   "cell_type": "code",
   "execution_count": null,
   "id": "2bf42a56",
   "metadata": {},
   "outputs": [],
   "source": [
    "debiasing_instance = Debias(config.sgns_wikitext_path, config.debiased_model_dir)"
   ]
  },
  {
   "cell_type": "code",
   "execution_count": null,
   "id": "f43faaf3",
   "metadata": {},
   "outputs": [],
   "source": [
    "sub_sample_size = 8\n",
    "\n",
    "warmth_pairs = load_pairs(config.warmth_pair_path)\n",
    "competence_pairs = load_pairs(config.competence_pair_path)\n",
    "    \n",
    "sub_warmth_pairs = random.sample(warmth_pairs, sub_sample_size)\n",
    "sub_competence_pairs = random.sample(competence_pairs, sub_sample_size)\n",
    "e = debiasing_instance.partial_project(def_pairs=sub_warmth_pairs)\n",
    "e_scm = debiasing_instance.partial_project(def_pairs=sub_competence_pairs, embedding=e)\n",
    "e_scm.save_word2vec_format(os.path.join(config.debiased_model_dir, \"quality_scm_word2vec.bin\"), binary=True)"
   ]
  },
  {
   "cell_type": "code",
   "execution_count": null,
   "id": "73bb19df",
   "metadata": {},
   "outputs": [],
   "source": [
    "scm_embedding = load_embedding(os.path.join(config.debiased_model_dir, \"quality_scm_word2vec.bin\"))\n",
    "scm_embedding.standardize_words(lower=True)\n",
    "evaluate_on_all(scm_embedding)"
   ]
  },
  {
   "cell_type": "markdown",
   "id": "69fbab25",
   "metadata": {},
   "source": [
    "## PP$_{G+R+A}$"
   ]
  },
  {
   "cell_type": "code",
   "execution_count": null,
   "id": "1d81a26a",
   "metadata": {},
   "outputs": [],
   "source": [
    "gender_pairs = load_pairs(config.gender_pair_path)\n",
    "race_pairs = load_pairs(config.race_pair_path)\n",
    "age_pairs = load_pairs(config.age_pair_path)"
   ]
  },
  {
   "cell_type": "code",
   "execution_count": null,
   "id": "fff4d1ad",
   "metadata": {
    "scrolled": true
   },
   "outputs": [],
   "source": [
    "sub_sample_size = 8\n",
    "sub_gender_pairs = random.sample(gender_pairs, sub_sample_size)\n",
    "sub_race_pairs = random.sample(race_pairs, sub_sample_size)\n",
    "sub_age_pairs = random.sample(age_pairs, sub_sample_size)\n",
    "eg = debiasing_instance.partial_project(def_pairs=sub_gender_pairs)\n",
    "e_gr = debiasing_instance.partial_project(def_pairs=sub_race_pairs, embedding=eg)\n",
    "e_gra = debiasing_instance.partial_project(def_pairs=sub_age_pairs, embedding=e_gr)\n",
    "        \n",
    "e_gra.save_word2vec_format(os.path.join(config.debiased_model_dir, \"quality_gra_word2vec.bin\"), binary=True)"
   ]
  },
  {
   "cell_type": "code",
   "execution_count": null,
   "id": "920be6f9",
   "metadata": {},
   "outputs": [],
   "source": [
    "gra_embedding = load_embedding(os.path.join(config.debiased_model_dir, \"quality_gra_word2vec.bin\"))\n",
    "gra_embedding.standardize_words(lower=True)\n",
    "evaluate_on_all(gra_embedding)"
   ]
  },
  {
   "cell_type": "markdown",
   "id": "b0dd4bd9",
   "metadata": {},
   "source": [
    "------------------------------------------------------------"
   ]
  }
 ],
 "metadata": {
  "kernelspec": {
   "display_name": "scmd-env",
   "language": "python",
   "name": "scmd-env"
  },
  "language_info": {
   "codemirror_mode": {
    "name": "ipython",
    "version": 3
   },
   "file_extension": ".py",
   "mimetype": "text/x-python",
   "name": "python",
   "nbconvert_exporter": "python",
   "pygments_lexer": "ipython3",
   "version": "3.6.9"
  }
 },
 "nbformat": 4,
 "nbformat_minor": 5
}
